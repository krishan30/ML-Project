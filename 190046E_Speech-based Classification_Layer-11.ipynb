{
 "cells": [
  {
   "cell_type": "markdown",
   "id": "5c3792f1-87c8-4a43-a172-b7a2beb21a24",
   "metadata": {},
   "source": [
    "## Import the necessary Python libraries"
   ]
  },
  {
   "cell_type": "code",
   "execution_count": 1,
   "id": "97a1a38f-a857-4b41-9afc-dd9b7baab2f2",
   "metadata": {
    "tags": []
   },
   "outputs": [],
   "source": [
    "import pandas as pd\n",
    "import matplotlib.pyplot as plt\n",
    "import seaborn as sns\n",
    "from sklearn.preprocessing import RobustScaler\n",
    "from sklearn.decomposition import PCA\n",
    "from sklearn.metrics import accuracy_score,precision_score, recall_score,f1_score\n",
    "from sklearn.svm import SVC\n",
    "from sklearn.model_selection import GridSearchCV\n",
    "import numpy as np\n",
    "from sklearn.model_selection import StratifiedShuffleSplit\n",
    "from sklearn.pipeline import Pipeline\n",
    "import joblib"
   ]
  },
  {
   "cell_type": "markdown",
   "id": "833224ff-c826-4220-9b64-5a4076178d07",
   "metadata": {},
   "source": [
    "### Loading the Train & Valid Dataset"
   ]
  },
  {
   "cell_type": "code",
   "execution_count": 2,
   "id": "24968748-86f5-4b86-a200-1213a17d61c4",
   "metadata": {
    "tags": []
   },
   "outputs": [],
   "source": [
    "training_data = pd.read_csv('./Datasets/train.csv')\n",
    "validation_data = pd.read_csv('./Datasets/valid.csv')"
   ]
  },
  {
   "cell_type": "markdown",
   "id": "fe269eb0-7836-4038-ac3d-05c2c8c2cef2",
   "metadata": {},
   "source": [
    "### Loading Test Dataset"
   ]
  },
  {
   "cell_type": "code",
   "execution_count": 3,
   "id": "336b244c-0095-46b5-a9b1-218b23f16011",
   "metadata": {
    "tags": []
   },
   "outputs": [],
   "source": [
    "test_data = pd.read_csv('./Datasets/test.csv')"
   ]
  },
  {
   "cell_type": "markdown",
   "id": "aaa76480-1f14-4111-99a9-e2cee6b8acda",
   "metadata": {
    "tags": []
   },
   "source": [
    "Take a Quick Look at the Data Structure"
   ]
  },
  {
   "cell_type": "code",
   "execution_count": 8,
   "id": "ec524270-ffc6-47f5-bb19-7ad0e49381d8",
   "metadata": {
    "tags": []
   },
   "outputs": [
    {
     "data": {
      "text/html": [
       "<div>\n",
       "<style scoped>\n",
       "    .dataframe tbody tr th:only-of-type {\n",
       "        vertical-align: middle;\n",
       "    }\n",
       "\n",
       "    .dataframe tbody tr th {\n",
       "        vertical-align: top;\n",
       "    }\n",
       "\n",
       "    .dataframe thead th {\n",
       "        text-align: right;\n",
       "    }\n",
       "</style>\n",
       "<table border=\"1\" class=\"dataframe\">\n",
       "  <thead>\n",
       "    <tr style=\"text-align: right;\">\n",
       "      <th></th>\n",
       "      <th>feature_1</th>\n",
       "      <th>feature_2</th>\n",
       "      <th>feature_3</th>\n",
       "      <th>feature_4</th>\n",
       "      <th>feature_5</th>\n",
       "      <th>feature_6</th>\n",
       "      <th>feature_7</th>\n",
       "      <th>feature_8</th>\n",
       "      <th>feature_9</th>\n",
       "      <th>feature_10</th>\n",
       "      <th>...</th>\n",
       "      <th>feature_763</th>\n",
       "      <th>feature_764</th>\n",
       "      <th>feature_765</th>\n",
       "      <th>feature_766</th>\n",
       "      <th>feature_767</th>\n",
       "      <th>feature_768</th>\n",
       "      <th>label_1</th>\n",
       "      <th>label_2</th>\n",
       "      <th>label_3</th>\n",
       "      <th>label_4</th>\n",
       "    </tr>\n",
       "  </thead>\n",
       "  <tbody>\n",
       "    <tr>\n",
       "      <th>0</th>\n",
       "      <td>0.031138</td>\n",
       "      <td>0.079892</td>\n",
       "      <td>0.157382</td>\n",
       "      <td>-0.014636</td>\n",
       "      <td>-0.051778</td>\n",
       "      <td>-0.021332</td>\n",
       "      <td>-0.073593</td>\n",
       "      <td>-0.005386</td>\n",
       "      <td>-0.212557</td>\n",
       "      <td>0.099683</td>\n",
       "      <td>...</td>\n",
       "      <td>-0.085248</td>\n",
       "      <td>-0.096007</td>\n",
       "      <td>-0.000766</td>\n",
       "      <td>0.021399</td>\n",
       "      <td>-0.041432</td>\n",
       "      <td>0.094806</td>\n",
       "      <td>45</td>\n",
       "      <td>NaN</td>\n",
       "      <td>1</td>\n",
       "      <td>6</td>\n",
       "    </tr>\n",
       "    <tr>\n",
       "      <th>1</th>\n",
       "      <td>0.113040</td>\n",
       "      <td>0.175731</td>\n",
       "      <td>0.217741</td>\n",
       "      <td>-0.196254</td>\n",
       "      <td>-0.010129</td>\n",
       "      <td>-0.030586</td>\n",
       "      <td>0.067114</td>\n",
       "      <td>-0.072412</td>\n",
       "      <td>-0.239192</td>\n",
       "      <td>0.104741</td>\n",
       "      <td>...</td>\n",
       "      <td>-0.090283</td>\n",
       "      <td>-0.053885</td>\n",
       "      <td>-0.010967</td>\n",
       "      <td>0.062209</td>\n",
       "      <td>-0.122958</td>\n",
       "      <td>0.192949</td>\n",
       "      <td>45</td>\n",
       "      <td>NaN</td>\n",
       "      <td>1</td>\n",
       "      <td>6</td>\n",
       "    </tr>\n",
       "    <tr>\n",
       "      <th>2</th>\n",
       "      <td>0.048570</td>\n",
       "      <td>0.091281</td>\n",
       "      <td>0.160776</td>\n",
       "      <td>-0.150937</td>\n",
       "      <td>0.020115</td>\n",
       "      <td>0.044117</td>\n",
       "      <td>-0.050092</td>\n",
       "      <td>-0.045661</td>\n",
       "      <td>-0.155332</td>\n",
       "      <td>0.117206</td>\n",
       "      <td>...</td>\n",
       "      <td>-0.021524</td>\n",
       "      <td>-0.008411</td>\n",
       "      <td>-0.006248</td>\n",
       "      <td>0.031468</td>\n",
       "      <td>-0.056915</td>\n",
       "      <td>0.154731</td>\n",
       "      <td>45</td>\n",
       "      <td>NaN</td>\n",
       "      <td>1</td>\n",
       "      <td>6</td>\n",
       "    </tr>\n",
       "    <tr>\n",
       "      <th>3</th>\n",
       "      <td>0.039212</td>\n",
       "      <td>0.118388</td>\n",
       "      <td>0.173831</td>\n",
       "      <td>-0.096659</td>\n",
       "      <td>-0.008702</td>\n",
       "      <td>0.061298</td>\n",
       "      <td>0.008974</td>\n",
       "      <td>-0.003277</td>\n",
       "      <td>-0.065046</td>\n",
       "      <td>0.095480</td>\n",
       "      <td>...</td>\n",
       "      <td>-0.071936</td>\n",
       "      <td>-0.023120</td>\n",
       "      <td>-0.007812</td>\n",
       "      <td>0.057600</td>\n",
       "      <td>-0.121892</td>\n",
       "      <td>0.072796</td>\n",
       "      <td>45</td>\n",
       "      <td>NaN</td>\n",
       "      <td>1</td>\n",
       "      <td>6</td>\n",
       "    </tr>\n",
       "    <tr>\n",
       "      <th>4</th>\n",
       "      <td>0.056019</td>\n",
       "      <td>0.170639</td>\n",
       "      <td>0.157917</td>\n",
       "      <td>-0.228605</td>\n",
       "      <td>-0.065965</td>\n",
       "      <td>-0.088732</td>\n",
       "      <td>-0.082243</td>\n",
       "      <td>-0.080568</td>\n",
       "      <td>-0.341500</td>\n",
       "      <td>0.142430</td>\n",
       "      <td>...</td>\n",
       "      <td>-0.155621</td>\n",
       "      <td>-0.079447</td>\n",
       "      <td>0.015316</td>\n",
       "      <td>0.127726</td>\n",
       "      <td>-0.151966</td>\n",
       "      <td>0.169634</td>\n",
       "      <td>45</td>\n",
       "      <td>NaN</td>\n",
       "      <td>1</td>\n",
       "      <td>6</td>\n",
       "    </tr>\n",
       "  </tbody>\n",
       "</table>\n",
       "<p>5 rows × 772 columns</p>\n",
       "</div>"
      ],
      "text/plain": [
       "   feature_1  feature_2  feature_3  feature_4  feature_5  feature_6  \\\n",
       "0   0.031138   0.079892   0.157382  -0.014636  -0.051778  -0.021332   \n",
       "1   0.113040   0.175731   0.217741  -0.196254  -0.010129  -0.030586   \n",
       "2   0.048570   0.091281   0.160776  -0.150937   0.020115   0.044117   \n",
       "3   0.039212   0.118388   0.173831  -0.096659  -0.008702   0.061298   \n",
       "4   0.056019   0.170639   0.157917  -0.228605  -0.065965  -0.088732   \n",
       "\n",
       "   feature_7  feature_8  feature_9  feature_10  ...  feature_763  feature_764  \\\n",
       "0  -0.073593  -0.005386  -0.212557    0.099683  ...    -0.085248    -0.096007   \n",
       "1   0.067114  -0.072412  -0.239192    0.104741  ...    -0.090283    -0.053885   \n",
       "2  -0.050092  -0.045661  -0.155332    0.117206  ...    -0.021524    -0.008411   \n",
       "3   0.008974  -0.003277  -0.065046    0.095480  ...    -0.071936    -0.023120   \n",
       "4  -0.082243  -0.080568  -0.341500    0.142430  ...    -0.155621    -0.079447   \n",
       "\n",
       "   feature_765  feature_766  feature_767  feature_768  label_1  label_2  \\\n",
       "0    -0.000766     0.021399    -0.041432     0.094806       45      NaN   \n",
       "1    -0.010967     0.062209    -0.122958     0.192949       45      NaN   \n",
       "2    -0.006248     0.031468    -0.056915     0.154731       45      NaN   \n",
       "3    -0.007812     0.057600    -0.121892     0.072796       45      NaN   \n",
       "4     0.015316     0.127726    -0.151966     0.169634       45      NaN   \n",
       "\n",
       "   label_3  label_4  \n",
       "0        1        6  \n",
       "1        1        6  \n",
       "2        1        6  \n",
       "3        1        6  \n",
       "4        1        6  \n",
       "\n",
       "[5 rows x 772 columns]"
      ]
     },
     "execution_count": 8,
     "metadata": {},
     "output_type": "execute_result"
    }
   ],
   "source": [
    "training_data.head()"
   ]
  },
  {
   "cell_type": "code",
   "execution_count": 9,
   "id": "0384a170-3a72-4a05-928b-4535d4c62ee5",
   "metadata": {
    "tags": []
   },
   "outputs": [
    {
     "data": {
      "text/html": [
       "<div>\n",
       "<style scoped>\n",
       "    .dataframe tbody tr th:only-of-type {\n",
       "        vertical-align: middle;\n",
       "    }\n",
       "\n",
       "    .dataframe tbody tr th {\n",
       "        vertical-align: top;\n",
       "    }\n",
       "\n",
       "    .dataframe thead th {\n",
       "        text-align: right;\n",
       "    }\n",
       "</style>\n",
       "<table border=\"1\" class=\"dataframe\">\n",
       "  <thead>\n",
       "    <tr style=\"text-align: right;\">\n",
       "      <th></th>\n",
       "      <th>feature_1</th>\n",
       "      <th>feature_2</th>\n",
       "      <th>feature_3</th>\n",
       "      <th>feature_4</th>\n",
       "      <th>feature_5</th>\n",
       "      <th>feature_6</th>\n",
       "      <th>feature_7</th>\n",
       "      <th>feature_8</th>\n",
       "      <th>feature_9</th>\n",
       "      <th>feature_10</th>\n",
       "      <th>...</th>\n",
       "      <th>feature_763</th>\n",
       "      <th>feature_764</th>\n",
       "      <th>feature_765</th>\n",
       "      <th>feature_766</th>\n",
       "      <th>feature_767</th>\n",
       "      <th>feature_768</th>\n",
       "      <th>label_1</th>\n",
       "      <th>label_2</th>\n",
       "      <th>label_3</th>\n",
       "      <th>label_4</th>\n",
       "    </tr>\n",
       "  </thead>\n",
       "  <tbody>\n",
       "    <tr>\n",
       "      <th>count</th>\n",
       "      <td>28520.000000</td>\n",
       "      <td>28520.000000</td>\n",
       "      <td>28520.000000</td>\n",
       "      <td>28520.000000</td>\n",
       "      <td>28520.000000</td>\n",
       "      <td>28520.000000</td>\n",
       "      <td>28520.000000</td>\n",
       "      <td>28520.000000</td>\n",
       "      <td>28520.000000</td>\n",
       "      <td>28520.000000</td>\n",
       "      <td>...</td>\n",
       "      <td>28520.000000</td>\n",
       "      <td>28520.000000</td>\n",
       "      <td>28520.000000</td>\n",
       "      <td>28520.000000</td>\n",
       "      <td>28520.000000</td>\n",
       "      <td>28520.000000</td>\n",
       "      <td>28520.000000</td>\n",
       "      <td>28040.000000</td>\n",
       "      <td>28520.000000</td>\n",
       "      <td>28520.000000</td>\n",
       "    </tr>\n",
       "    <tr>\n",
       "      <th>mean</th>\n",
       "      <td>0.042487</td>\n",
       "      <td>0.068749</td>\n",
       "      <td>0.145547</td>\n",
       "      <td>-0.070646</td>\n",
       "      <td>-0.013539</td>\n",
       "      <td>0.003395</td>\n",
       "      <td>-0.041282</td>\n",
       "      <td>-0.028283</td>\n",
       "      <td>-0.106602</td>\n",
       "      <td>0.053686</td>\n",
       "      <td>...</td>\n",
       "      <td>-0.022102</td>\n",
       "      <td>-0.044743</td>\n",
       "      <td>-0.004380</td>\n",
       "      <td>0.049072</td>\n",
       "      <td>-0.028722</td>\n",
       "      <td>0.075717</td>\n",
       "      <td>30.498843</td>\n",
       "      <td>27.975107</td>\n",
       "      <td>0.799299</td>\n",
       "      <td>5.997125</td>\n",
       "    </tr>\n",
       "    <tr>\n",
       "      <th>std</th>\n",
       "      <td>0.048918</td>\n",
       "      <td>0.046354</td>\n",
       "      <td>0.065332</td>\n",
       "      <td>0.046671</td>\n",
       "      <td>0.027635</td>\n",
       "      <td>0.031248</td>\n",
       "      <td>0.026479</td>\n",
       "      <td>0.029632</td>\n",
       "      <td>0.070775</td>\n",
       "      <td>0.030945</td>\n",
       "      <td>...</td>\n",
       "      <td>0.053250</td>\n",
       "      <td>0.031361</td>\n",
       "      <td>0.025829</td>\n",
       "      <td>0.050536</td>\n",
       "      <td>0.032622</td>\n",
       "      <td>0.044879</td>\n",
       "      <td>17.328389</td>\n",
       "      <td>5.735913</td>\n",
       "      <td>0.400532</td>\n",
       "      <td>2.375567</td>\n",
       "    </tr>\n",
       "    <tr>\n",
       "      <th>min</th>\n",
       "      <td>-0.079594</td>\n",
       "      <td>-0.062608</td>\n",
       "      <td>-0.048545</td>\n",
       "      <td>-0.307243</td>\n",
       "      <td>-0.178347</td>\n",
       "      <td>-0.194771</td>\n",
       "      <td>-0.197551</td>\n",
       "      <td>-0.304828</td>\n",
       "      <td>-0.421257</td>\n",
       "      <td>-0.049723</td>\n",
       "      <td>...</td>\n",
       "      <td>-0.253255</td>\n",
       "      <td>-0.264549</td>\n",
       "      <td>-0.137827</td>\n",
       "      <td>-0.117697</td>\n",
       "      <td>-0.302399</td>\n",
       "      <td>-0.090777</td>\n",
       "      <td>1.000000</td>\n",
       "      <td>22.000000</td>\n",
       "      <td>0.000000</td>\n",
       "      <td>0.000000</td>\n",
       "    </tr>\n",
       "    <tr>\n",
       "      <th>25%</th>\n",
       "      <td>0.009979</td>\n",
       "      <td>0.037225</td>\n",
       "      <td>0.100677</td>\n",
       "      <td>-0.088834</td>\n",
       "      <td>-0.027810</td>\n",
       "      <td>-0.010617</td>\n",
       "      <td>-0.056682</td>\n",
       "      <td>-0.044344</td>\n",
       "      <td>-0.135110</td>\n",
       "      <td>0.033236</td>\n",
       "      <td>...</td>\n",
       "      <td>-0.042332</td>\n",
       "      <td>-0.056918</td>\n",
       "      <td>-0.018848</td>\n",
       "      <td>0.012599</td>\n",
       "      <td>-0.045226</td>\n",
       "      <td>0.045309</td>\n",
       "      <td>15.000000</td>\n",
       "      <td>25.000000</td>\n",
       "      <td>1.000000</td>\n",
       "      <td>6.000000</td>\n",
       "    </tr>\n",
       "    <tr>\n",
       "      <th>50%</th>\n",
       "      <td>0.024445</td>\n",
       "      <td>0.056119</td>\n",
       "      <td>0.123554</td>\n",
       "      <td>-0.057386</td>\n",
       "      <td>-0.011423</td>\n",
       "      <td>0.006173</td>\n",
       "      <td>-0.041501</td>\n",
       "      <td>-0.025805</td>\n",
       "      <td>-0.080715</td>\n",
       "      <td>0.045567</td>\n",
       "      <td>...</td>\n",
       "      <td>-0.007960</td>\n",
       "      <td>-0.037407</td>\n",
       "      <td>-0.004701</td>\n",
       "      <td>0.033121</td>\n",
       "      <td>-0.022919</td>\n",
       "      <td>0.064875</td>\n",
       "      <td>30.000000</td>\n",
       "      <td>27.000000</td>\n",
       "      <td>1.000000</td>\n",
       "      <td>6.000000</td>\n",
       "    </tr>\n",
       "    <tr>\n",
       "      <th>75%</th>\n",
       "      <td>0.058410</td>\n",
       "      <td>0.086358</td>\n",
       "      <td>0.173234</td>\n",
       "      <td>-0.039661</td>\n",
       "      <td>0.001544</td>\n",
       "      <td>0.021250</td>\n",
       "      <td>-0.026559</td>\n",
       "      <td>-0.009324</td>\n",
       "      <td>-0.057873</td>\n",
       "      <td>0.065670</td>\n",
       "      <td>...</td>\n",
       "      <td>0.012116</td>\n",
       "      <td>-0.024179</td>\n",
       "      <td>0.010218</td>\n",
       "      <td>0.072599</td>\n",
       "      <td>-0.006335</td>\n",
       "      <td>0.097642</td>\n",
       "      <td>46.000000</td>\n",
       "      <td>30.000000</td>\n",
       "      <td>1.000000</td>\n",
       "      <td>6.000000</td>\n",
       "    </tr>\n",
       "    <tr>\n",
       "      <th>max</th>\n",
       "      <td>0.274146</td>\n",
       "      <td>0.332288</td>\n",
       "      <td>0.454182</td>\n",
       "      <td>0.059362</td>\n",
       "      <td>0.196950</td>\n",
       "      <td>0.213127</td>\n",
       "      <td>0.124194</td>\n",
       "      <td>0.105714</td>\n",
       "      <td>0.192121</td>\n",
       "      <td>0.252320</td>\n",
       "      <td>...</td>\n",
       "      <td>0.209455</td>\n",
       "      <td>0.054555</td>\n",
       "      <td>0.215375</td>\n",
       "      <td>0.376414</td>\n",
       "      <td>0.125857</td>\n",
       "      <td>0.416291</td>\n",
       "      <td>60.000000</td>\n",
       "      <td>61.000000</td>\n",
       "      <td>1.000000</td>\n",
       "      <td>13.000000</td>\n",
       "    </tr>\n",
       "  </tbody>\n",
       "</table>\n",
       "<p>8 rows × 772 columns</p>\n",
       "</div>"
      ],
      "text/plain": [
       "          feature_1     feature_2     feature_3     feature_4     feature_5  \\\n",
       "count  28520.000000  28520.000000  28520.000000  28520.000000  28520.000000   \n",
       "mean       0.042487      0.068749      0.145547     -0.070646     -0.013539   \n",
       "std        0.048918      0.046354      0.065332      0.046671      0.027635   \n",
       "min       -0.079594     -0.062608     -0.048545     -0.307243     -0.178347   \n",
       "25%        0.009979      0.037225      0.100677     -0.088834     -0.027810   \n",
       "50%        0.024445      0.056119      0.123554     -0.057386     -0.011423   \n",
       "75%        0.058410      0.086358      0.173234     -0.039661      0.001544   \n",
       "max        0.274146      0.332288      0.454182      0.059362      0.196950   \n",
       "\n",
       "          feature_6     feature_7     feature_8     feature_9    feature_10  \\\n",
       "count  28520.000000  28520.000000  28520.000000  28520.000000  28520.000000   \n",
       "mean       0.003395     -0.041282     -0.028283     -0.106602      0.053686   \n",
       "std        0.031248      0.026479      0.029632      0.070775      0.030945   \n",
       "min       -0.194771     -0.197551     -0.304828     -0.421257     -0.049723   \n",
       "25%       -0.010617     -0.056682     -0.044344     -0.135110      0.033236   \n",
       "50%        0.006173     -0.041501     -0.025805     -0.080715      0.045567   \n",
       "75%        0.021250     -0.026559     -0.009324     -0.057873      0.065670   \n",
       "max        0.213127      0.124194      0.105714      0.192121      0.252320   \n",
       "\n",
       "       ...   feature_763   feature_764   feature_765   feature_766  \\\n",
       "count  ...  28520.000000  28520.000000  28520.000000  28520.000000   \n",
       "mean   ...     -0.022102     -0.044743     -0.004380      0.049072   \n",
       "std    ...      0.053250      0.031361      0.025829      0.050536   \n",
       "min    ...     -0.253255     -0.264549     -0.137827     -0.117697   \n",
       "25%    ...     -0.042332     -0.056918     -0.018848      0.012599   \n",
       "50%    ...     -0.007960     -0.037407     -0.004701      0.033121   \n",
       "75%    ...      0.012116     -0.024179      0.010218      0.072599   \n",
       "max    ...      0.209455      0.054555      0.215375      0.376414   \n",
       "\n",
       "        feature_767   feature_768       label_1       label_2       label_3  \\\n",
       "count  28520.000000  28520.000000  28520.000000  28040.000000  28520.000000   \n",
       "mean      -0.028722      0.075717     30.498843     27.975107      0.799299   \n",
       "std        0.032622      0.044879     17.328389      5.735913      0.400532   \n",
       "min       -0.302399     -0.090777      1.000000     22.000000      0.000000   \n",
       "25%       -0.045226      0.045309     15.000000     25.000000      1.000000   \n",
       "50%       -0.022919      0.064875     30.000000     27.000000      1.000000   \n",
       "75%       -0.006335      0.097642     46.000000     30.000000      1.000000   \n",
       "max        0.125857      0.416291     60.000000     61.000000      1.000000   \n",
       "\n",
       "            label_4  \n",
       "count  28520.000000  \n",
       "mean       5.997125  \n",
       "std        2.375567  \n",
       "min        0.000000  \n",
       "25%        6.000000  \n",
       "50%        6.000000  \n",
       "75%        6.000000  \n",
       "max       13.000000  \n",
       "\n",
       "[8 rows x 772 columns]"
      ]
     },
     "execution_count": 9,
     "metadata": {},
     "output_type": "execute_result"
    }
   ],
   "source": [
    "training_data.describe()"
   ]
  },
  {
   "cell_type": "markdown",
   "id": "41ca914a-2975-4d95-b151-9d95b10d1893",
   "metadata": {
    "tags": []
   },
   "source": [
    "## Data Pre-processing"
   ]
  },
  {
   "cell_type": "markdown",
   "id": "e6fd4616-2ab7-4a35-a19c-e6d82151deab",
   "metadata": {},
   "source": [
    "### Check whether unsupported data contain in the dataset (Strings, ...)"
   ]
  },
  {
   "cell_type": "markdown",
   "id": "24a0b2f3-9276-43d2-8189-076a0f1fafa0",
   "metadata": {},
   "source": [
    "#### 1. In Training Dataset"
   ]
  },
  {
   "cell_type": "code",
   "execution_count": 11,
   "id": "ce273b8c-9fa2-4093-b76c-2c0b4368257e",
   "metadata": {
    "tags": []
   },
   "outputs": [
    {
     "name": "stdout",
     "output_type": "stream",
     "text": [
      "[dtype('float64') dtype('int64')]\n"
     ]
    }
   ],
   "source": [
    "print(training_data.dtypes.unique())"
   ]
  },
  {
   "cell_type": "markdown",
   "id": "2114f931-db12-4cb6-80ea-50a0c77fbc90",
   "metadata": {},
   "source": [
    "#### 2. In validation Dataset"
   ]
  },
  {
   "cell_type": "code",
   "execution_count": 12,
   "id": "b33e72b8-4335-4b3f-8d21-4214db8c7f15",
   "metadata": {
    "tags": []
   },
   "outputs": [
    {
     "name": "stdout",
     "output_type": "stream",
     "text": [
      "[dtype('float64') dtype('int64')]\n"
     ]
    }
   ],
   "source": [
    "print(validation_data.dtypes.unique())"
   ]
  },
  {
   "cell_type": "markdown",
   "id": "28e0350e-59da-4f04-967c-aecd7b3f2f19",
   "metadata": {},
   "source": [
    "#### 3. In Test Dataset"
   ]
  },
  {
   "cell_type": "code",
   "execution_count": 87,
   "id": "d26eaf50-722e-4bea-a14f-274f0e05fd78",
   "metadata": {
    "tags": []
   },
   "outputs": [
    {
     "name": "stdout",
     "output_type": "stream",
     "text": [
      "[dtype('int64') dtype('float64')]\n"
     ]
    }
   ],
   "source": [
    "print(test_data.dtypes.unique())"
   ]
  },
  {
   "cell_type": "raw",
   "id": "6f739b7c-d184-42ae-824d-21aaf6702a6b",
   "metadata": {},
   "source": [
    "Since there is no object type in the datasets so no unsupported data"
   ]
  },
  {
   "cell_type": "markdown",
   "id": "8871060b-4e65-4346-a319-d7f7bc637ce7",
   "metadata": {},
   "source": [
    "### Check for Missing Values"
   ]
  },
  {
   "cell_type": "code",
   "execution_count": 13,
   "id": "12e35424-6c11-43ff-976d-7b1d6545f947",
   "metadata": {
    "tags": []
   },
   "outputs": [],
   "source": [
    "def plot_missing_values(data : pd.DataFrame):\n",
    "    missing_percentage = (data.isnull().sum() / len(data)) * 100\n",
    "    missing_percentage = missing_percentage[missing_percentage > 0]  # Only columns with missing values\n",
    "    plt.figure(figsize=(10, 6))\n",
    "    sns.barplot(x=missing_percentage.index, y=missing_percentage.values, palette='viridis')\n",
    "    plt.xticks(rotation=45, ha='right')\n",
    "    plt.xlabel('Columns with Missing Values')\n",
    "    plt.ylabel('Percentage of Missing Values')\n",
    "    plt.title('Percentage of Missing Values in Columns')\n",
    "    plt.tight_layout()\n",
    "    plt.show()"
   ]
  },
  {
   "cell_type": "markdown",
   "id": "24a4f3b1-edce-494c-9258-8d261f7373af",
   "metadata": {},
   "source": [
    "#### 1. In Training Dataset"
   ]
  },
  {
   "cell_type": "code",
   "execution_count": 14,
   "id": "17ad495a-59d7-4444-bbd6-d3879e04ba6f",
   "metadata": {
    "tags": []
   },
   "outputs": [
    {
     "data": {
      "image/png": "[encoded data removed]",
      "text/plain": [
       "<Figure size 1000x600 with 1 Axes>"
      ]
     },
     "metadata": {},
     "output_type": "display_data"
    }
   ],
   "source": [
    "plot_missing_values(training_data)"
   ]
  },
  {
   "cell_type": "markdown",
   "id": "5c76756e-08e7-4443-80c6-be6408a8d73b",
   "metadata": {},
   "source": [
    "#### 2. In validation Dataset"
   ]
  },
  {
   "cell_type": "code",
   "execution_count": 15,
   "id": "8d355e73-1c47-46fe-bb9d-b85b596f36df",
   "metadata": {
    "tags": []
   },
   "outputs": [
    {
     "data": {
      "image/png": "[encoded data removed]",
      "text/plain": [
       "<Figure size 1000x600 with 1 Axes>"
      ]
     },
     "metadata": {},
     "output_type": "display_data"
    }
   ],
   "source": [
    "plot_missing_values(validation_data)"
   ]
  },
  {
   "cell_type": "markdown",
   "id": "7c7d8601-1a94-4717-b83b-badb2d83ff6f",
   "metadata": {},
   "source": [
    "- Since Missing Values precentage is very low and values are missing in label_2(catogorical) each dataset so rows with empty data will be removed only for label 2 datasets"
   ]
  },
  {
   "cell_type": "markdown",
   "id": "5a385891-ab9a-46f8-8ccf-c4359a59c84c",
   "metadata": {},
   "source": [
    "### Removing Missing Values"
   ]
  },
  {
   "cell_type": "code",
   "execution_count": 4,
   "id": "acd1d13b-3304-41b4-b64e-127a39f6437c",
   "metadata": {
    "tags": []
   },
   "outputs": [],
   "source": [
    "training_data_label_2 = training_data.dropna()\n",
    "validation_data_label_2 = validation_data.dropna()"
   ]
  },
  {
   "cell_type": "markdown",
   "id": "4f5eb889-c879-4c85-b41f-0c80e550725c",
   "metadata": {},
   "source": [
    "### Separate Features and Target Labels from Datasets"
   ]
  },
  {
   "cell_type": "markdown",
   "id": "704e173d-7280-42bb-bbb1-34eb6027d93d",
   "metadata": {},
   "source": [
    "#### 1. In Training Dataset"
   ]
  },
  {
   "cell_type": "code",
   "execution_count": 5,
   "id": "218c9bc7-27f0-4703-8a19-feafcdb5016d",
   "metadata": {
    "tags": []
   },
   "outputs": [],
   "source": [
    "# Separate features and target labels\n",
    "training_features = training_data.drop(['label_1', 'label_2','label_3','label_4'], axis=1)\n",
    "training_features_label_2 = training_data_label_2.drop(['label_1', 'label_2','label_3','label_4'], axis=1)\n",
    "training_target_label_1 = training_data['label_1']\n",
    "training_target_label_2 = training_data_label_2['label_2']\n",
    "training_target_label_3 = training_data['label_3']\n",
    "training_target_label_4 = training_data['label_4']"
   ]
  },
  {
   "cell_type": "markdown",
   "id": "6b82f278-cc9d-4ecb-a93b-3609c10f4f9d",
   "metadata": {},
   "source": [
    "#### 2.In validation Dataset"
   ]
  },
  {
   "cell_type": "code",
   "execution_count": 6,
   "id": "766e7807-6fb9-4975-b8fa-ba76583b6121",
   "metadata": {
    "tags": []
   },
   "outputs": [],
   "source": [
    "validation_features = validation_data.drop(['label_1', 'label_2','label_3','label_4'], axis=1)\n",
    "validation_features_label_2 = validation_data_label_2.drop(['label_1', 'label_2','label_3','label_4'], axis=1)\n",
    "validation_target_label_1 = validation_data['label_1']\n",
    "validation_target_label_2 = validation_data_label_2['label_2']\n",
    "validation_target_label_3 = validation_data['label_3']\n",
    "validation_target_label_4 = validation_data['label_4']"
   ]
  },
  {
   "cell_type": "markdown",
   "id": "6c1e0f56-da7e-4f79-965a-0a7296455afd",
   "metadata": {},
   "source": [
    "#### 3.In Testing Dataset"
   ]
  },
  {
   "cell_type": "code",
   "execution_count": 7,
   "id": "e3246197-d4de-4f34-9b6a-3b12b690d946",
   "metadata": {
    "tags": []
   },
   "outputs": [],
   "source": [
    "test_IDs = test_data['ID']\n",
    "test_features = test_data.drop(['ID'], axis=1)"
   ]
  },
  {
   "cell_type": "markdown",
   "id": "c34ec35a-2ad6-4ebf-8c75-d723622f6100",
   "metadata": {},
   "source": [
    "### Visualizing Target Variables (Training)"
   ]
  },
  {
   "cell_type": "code",
   "execution_count": 8,
   "id": "ef524086-bb47-4639-b0e5-93352ec54160",
   "metadata": {
    "tags": []
   },
   "outputs": [],
   "source": [
    "def create_barchart(data :pd.DataFrame, title : str, x_label:str, y_label:str,palette_name:str=\"deep\"):\n",
    "    # Count the frequency of each unique value in the data frame\n",
    "    value_counts = data.value_counts()\n",
    "\n",
    "    # Create a bar plot using Seaborn\n",
    "    plt.figure(figsize=(30, 10))\n",
    "    sns.barplot(x=value_counts.index, y=value_counts.values,palette=palette_name)\n",
    "\n",
    "    # Set plot labels and title\n",
    "    plt.xlabel(x_label)\n",
    "    plt.ylabel(y_label)\n",
    "    plt.title(title)\n",
    "\n",
    "    # Show the plot\n",
    "    plt.show()"
   ]
  },
  {
   "cell_type": "markdown",
   "id": "a06798ae-50e4-4905-8cbf-002293ca7c66",
   "metadata": {},
   "source": [
    "#### 1.Label_1"
   ]
  },
  {
   "cell_type": "code",
   "execution_count": 21,
   "id": "1cd3f7ed-ac49-40da-9f03-14d11cfc5b11",
   "metadata": {
    "tags": []
   },
   "outputs": [
    {
     "data": {
      "image/png": "[encoded data removed]",
      "text/plain": [
       "<Figure size 3000x1000 with 1 Axes>"
      ]
     },
     "metadata": {},
     "output_type": "display_data"
    }
   ],
   "source": [
    "create_barchart(training_target_label_1,'Bar Chart of Label_1','Classes','Frequency')"
   ]
  },
  {
   "cell_type": "markdown",
   "id": "1baedfa3-f076-4485-a24b-0ce9310780dd",
   "metadata": {},
   "source": [
    "- Class Distribution is closely blanced"
   ]
  },
  {
   "cell_type": "markdown",
   "id": "96390309-ca3f-4f88-8ac2-a89698b5d7d3",
   "metadata": {},
   "source": [
    "#### 2.Label_2"
   ]
  },
  {
   "cell_type": "code",
   "execution_count": 22,
   "id": "889f0b87-059b-43ce-ad68-571ebd2209d7",
   "metadata": {
    "tags": []
   },
   "outputs": [
    {
     "data": {
      "image/png": "[encoded data removed]",
      "text/plain": [
       "<Figure size 3000x1000 with 1 Axes>"
      ]
     },
     "metadata": {},
     "output_type": "display_data"
    }
   ],
   "source": [
    "create_barchart(training_target_label_2,'Bar Chart of Label_2','Classes','Frequency')"
   ]
  },
  {
   "cell_type": "markdown",
   "id": "4da68015-6e2f-42a8-a113-72d888d72ba1",
   "metadata": {},
   "source": [
    "- Class Distribution is Unbalanced"
   ]
  },
  {
   "cell_type": "markdown",
   "id": "8b0c5283-283f-4a99-80c0-650b6ca58575",
   "metadata": {},
   "source": [
    "#### 3.Label_3"
   ]
  },
  {
   "cell_type": "code",
   "execution_count": 23,
   "id": "86492298-a35a-4c1e-8532-f4a17de32b54",
   "metadata": {
    "tags": []
   },
   "outputs": [
    {
     "data": {
      "image/png": "[encoded data removed]",
      "text/plain": [
       "<Figure size 3000x1000 with 1 Axes>"
      ]
     },
     "metadata": {},
     "output_type": "display_data"
    }
   ],
   "source": [
    "create_barchart(training_target_label_3,'Bar Chart of Label_3','Classes','Frequency')"
   ]
  },
  {
   "cell_type": "markdown",
   "id": "78051332-0b85-4c4a-8745-22fb18260aec",
   "metadata": {},
   "source": [
    "- Class Distribution is Unbalanced"
   ]
  },
  {
   "cell_type": "markdown",
   "id": "44393d58-6a97-4e46-b9b2-cfce78a44c52",
   "metadata": {},
   "source": [
    "#### 4.Label_4 "
   ]
  },
  {
   "cell_type": "code",
   "execution_count": 24,
   "id": "bf32fa20-cf41-4b9d-b2ac-721f32ec550e",
   "metadata": {
    "tags": []
   },
   "outputs": [
    {
     "data": {
      "image/png": "[encoded data removed]",
      "text/plain": [
       "<Figure size 3000x1000 with 1 Axes>"
      ]
     },
     "metadata": {},
     "output_type": "display_data"
    }
   ],
   "source": [
    "create_barchart(training_target_label_4,'Bar Chart of Label_4','Classes','Frequency')"
   ]
  },
  {
   "cell_type": "markdown",
   "id": "6763847f-8d18-448d-ae83-298b5017e49e",
   "metadata": {},
   "source": [
    "- Class Distribution is Unbalanced"
   ]
  },
  {
   "cell_type": "markdown",
   "id": "8dc99fdf-7b6f-4bed-9173-4f1b41e67773",
   "metadata": {},
   "source": [
    "## Feature Engineering"
   ]
  },
  {
   "cell_type": "markdown",
   "id": "8ac69754-cde5-4c57-96e3-91a39167b8b3",
   "metadata": {},
   "source": [
    "### Robust Scaling & Dimensionality Reduction using PCA For Label 1,3,4"
   ]
  },
  {
   "cell_type": "code",
   "execution_count": 8,
   "id": "f966c797-6d06-4bf7-b29a-fdb10344291f",
   "metadata": {
    "tags": []
   },
   "outputs": [],
   "source": [
    "# Define the preprocessing steps\n",
    "scaler = RobustScaler()\n",
    "pca = PCA(n_components=0.95, svd_solver='full')\n",
    "\n",
    "# Create a pipeline\n",
    "feature_engineering_pipeline = Pipeline([\n",
    "    ('scaler', scaler),      # Step 1: Scaling\n",
    "    ('pca', pca)            # Step 2: PCA\n",
    "])"
   ]
  },
  {
   "cell_type": "code",
   "execution_count": 9,
   "id": "3329e541-a656-4e34-b231-bb4af9442b26",
   "metadata": {
    "tags": []
   },
   "outputs": [],
   "source": [
    "# Fit and transform the training data\n",
    "pca_components_training = feature_engineering_pipeline.fit_transform(training_features)"
   ]
  },
  {
   "cell_type": "code",
   "execution_count": 10,
   "id": "337e27a2-24ee-4eee-950a-65a1cfc95125",
   "metadata": {
    "tags": []
   },
   "outputs": [],
   "source": [
    "# Transform the validation data using the same pipeline\n",
    "pca_components_validation = feature_engineering_pipeline.transform(validation_features)"
   ]
  },
  {
   "cell_type": "code",
   "execution_count": 11,
   "id": "965d9ab5-00f5-4a32-a6b9-27d40154cc08",
   "metadata": {
    "tags": []
   },
   "outputs": [],
   "source": [
    "# Transform the Test data using the same pipeline\n",
    "pca_components_testing = feature_engineering_pipeline.transform(test_features)"
   ]
  },
  {
   "cell_type": "code",
   "execution_count": 85,
   "id": "f90c0c9a-30df-433f-a794-63135ebc23b9",
   "metadata": {
    "tags": []
   },
   "outputs": [
    {
     "data": {
      "text/plain": [
       "(28520, 148)"
      ]
     },
     "execution_count": 85,
     "metadata": {},
     "output_type": "execute_result"
    }
   ],
   "source": [
    "pca_components_training.shape"
   ]
  },
  {
   "cell_type": "code",
   "execution_count": 86,
   "id": "ba68edf6-2a01-483a-b15e-4dc86ee7035a",
   "metadata": {
    "tags": []
   },
   "outputs": [
    {
     "data": {
      "text/plain": [
       "(750, 148)"
      ]
     },
     "execution_count": 86,
     "metadata": {},
     "output_type": "execute_result"
    }
   ],
   "source": [
    "pca_components_validation.shape"
   ]
  },
  {
   "cell_type": "code",
   "execution_count": 87,
   "id": "638e94d0-ce69-43eb-8989-5cd55708f741",
   "metadata": {
    "tags": []
   },
   "outputs": [
    {
     "data": {
      "text/plain": [
       "(744, 148)"
      ]
     },
     "execution_count": 87,
     "metadata": {},
     "output_type": "execute_result"
    }
   ],
   "source": [
    "pca_components_testing.shape"
   ]
  },
  {
   "cell_type": "code",
   "execution_count": 110,
   "id": "b5db4330-9c39-48a0-83eb-96d583f78cb8",
   "metadata": {
    "tags": []
   },
   "outputs": [
    {
     "data": {
      "image/png": "[encoded data removed]",
      "text/plain": [
       "<Figure size 800x600 with 1 Axes>"
      ]
     },
     "metadata": {},
     "output_type": "display_data"
    }
   ],
   "source": [
    "# Calculate explained variance ratio for each component\n",
    "explained_variance_ratio = pca.explained_variance_ratio_\n",
    "\n",
    "# Create a variation plot\n",
    "plt.figure(figsize=(8, 6))\n",
    "plt.plot(np.cumsum(explained_variance_ratio), marker='o', linestyle='-')\n",
    "plt.xlabel('Number of Principal Components')\n",
    "plt.ylabel('Explained Variance Ratio')\n",
    "plt.title('PCA Variation Plot')\n",
    "plt.grid(True)\n",
    "plt.show()"
   ]
  },
  {
   "cell_type": "markdown",
   "id": "209f4ce5-89ab-4d37-8c71-caef785a8eae",
   "metadata": {},
   "source": [
    "### Robust Scaling & Dimensionality Reduction using PCA For Label 2"
   ]
  },
  {
   "cell_type": "code",
   "execution_count": 12,
   "id": "571b7762-161a-4985-a1c2-73c2d86d174a",
   "metadata": {
    "tags": []
   },
   "outputs": [],
   "source": [
    "# Define the preprocessing steps\n",
    "scaler_for_label_2 = RobustScaler()\n",
    "pca_for_label_2 = PCA(n_components=0.95, svd_solver='full')\n",
    "\n",
    "# Create a pipeline\n",
    "feature_engineering_pipeline_for_label_2 = Pipeline([\n",
    "    ('scaler', scaler_for_label_2),      # Step 1: Scaling\n",
    "    ('pca', pca_for_label_2)            # Step 2: PCA\n",
    "])"
   ]
  },
  {
   "cell_type": "code",
   "execution_count": 13,
   "id": "cafcfa3d-b41c-449c-8bc7-e52af605d5d1",
   "metadata": {
    "tags": []
   },
   "outputs": [],
   "source": [
    "# Fit and transform the training data\n",
    "pca_components_training_for_label_2 = feature_engineering_pipeline_for_label_2.fit_transform(training_features_label_2)"
   ]
  },
  {
   "cell_type": "code",
   "execution_count": 14,
   "id": "fca5b907-83ed-409f-82fc-dcb403bd3dd6",
   "metadata": {
    "tags": []
   },
   "outputs": [],
   "source": [
    "# Transform the validation data using the same pipeline\n",
    "pca_components_validation_for_label_2 = feature_engineering_pipeline_for_label_2.transform(validation_features_label_2)"
   ]
  },
  {
   "cell_type": "code",
   "execution_count": 15,
   "id": "35caf4f3-f54d-4f22-bcc2-af8a9cff1b79",
   "metadata": {
    "tags": []
   },
   "outputs": [],
   "source": [
    "# Transform the Test data using the same pipeline\n",
    "pca_components_testing_label_2 = feature_engineering_pipeline_for_label_2.transform(test_features)"
   ]
  },
  {
   "cell_type": "code",
   "execution_count": 13,
   "id": "3b106265-f473-4b84-99ab-3b710cfb2ddd",
   "metadata": {
    "tags": []
   },
   "outputs": [
    {
     "data": {
      "text/plain": [
       "(28040, 148)"
      ]
     },
     "execution_count": 13,
     "metadata": {},
     "output_type": "execute_result"
    }
   ],
   "source": [
    "pca_components_training_for_label_2.shape"
   ]
  },
  {
   "cell_type": "code",
   "execution_count": 14,
   "id": "b8559e4b-9bd3-4a75-9d75-c0078532b6f1",
   "metadata": {
    "tags": []
   },
   "outputs": [
    {
     "data": {
      "text/plain": [
       "(736, 148)"
      ]
     },
     "execution_count": 14,
     "metadata": {},
     "output_type": "execute_result"
    }
   ],
   "source": [
    "pca_components_validation_for_label_2.shape"
   ]
  },
  {
   "cell_type": "code",
   "execution_count": 15,
   "id": "022bf628-d42b-47d4-8c5b-c415a098d9ce",
   "metadata": {
    "tags": []
   },
   "outputs": [
    {
     "data": {
      "text/plain": [
       "(744, 148)"
      ]
     },
     "execution_count": 15,
     "metadata": {},
     "output_type": "execute_result"
    }
   ],
   "source": [
    "pca_components_testing_label_2.shape"
   ]
  },
  {
   "cell_type": "code",
   "execution_count": 153,
   "id": "467bc9ee-5061-4f14-84ab-dd76d6a91905",
   "metadata": {
    "tags": []
   },
   "outputs": [
    {
     "data": {
      "image/png": "[encoded data removed]",
      "text/plain": [
       "<Figure size 800x600 with 1 Axes>"
      ]
     },
     "metadata": {},
     "output_type": "display_data"
    }
   ],
   "source": [
    "# Calculate explained variance ratio for each component\n",
    "explained_variance_ratio = pca_for_label_2.explained_variance_ratio_\n",
    "\n",
    "# Create a variation plot\n",
    "plt.figure(figsize=(8, 6))\n",
    "plt.plot(np.cumsum(explained_variance_ratio), marker='o', linestyle='-')\n",
    "plt.xlabel('Number of Principal Components')\n",
    "plt.ylabel('Explained Variance Ratio')\n",
    "plt.title('PCA Variation Plot')\n",
    "plt.grid(True)\n",
    "plt.show()"
   ]
  },
  {
   "cell_type": "markdown",
   "id": "6b4ec802-c71c-4dbd-8ae6-90577ed0c7c4",
   "metadata": {},
   "source": [
    "## HyperParameter Tuning with cross-validation  "
   ]
  },
  {
   "cell_type": "code",
   "execution_count": 9,
   "id": "c579219e-47c0-4e89-b54a-54301fe1ab54",
   "metadata": {
    "tags": []
   },
   "outputs": [],
   "source": [
    "def evaluate_model(x_test, y_test, models, average='macro'):\n",
    "    for model_name, model in models:\n",
    "        y_pred = model.predict(x_test)\n",
    "        accuracy = accuracy_score(y_test, y_pred)\n",
    "        precision = precision_score(y_test, y_pred, average=average)\n",
    "        recall = recall_score(y_test, y_pred, average=average)\n",
    "        f1_score_value = f1_score(y_test, y_pred, average=average)\n",
    "        print(model_name)\n",
    "        print(f\"Validation Accuracy : {accuracy:.4f}\")\n",
    "        print(f\"Validation Precision : {precision:.4f}\")\n",
    "        print(f\"Validation Recall : {recall:.4f}\")\n",
    "        print(f\"Validation f1 score : {f1_score_value:.4f}\")"
   ]
  },
  {
   "cell_type": "code",
   "execution_count": 20,
   "id": "e4f3cf9c-4eec-4622-8727-0d6f44176129",
   "metadata": {
    "tags": []
   },
   "outputs": [],
   "source": [
    "def grid_search_with_cv(model, param_grid, x_train, y_train, cv_splits=5, test_size=0.4, random_state=42,\n",
    "                        scoring='accuracy', n_jobs=1):\n",
    "    # Create a GridSearchCV object with cross-validation\n",
    "    grid_search = GridSearchCV(\n",
    "        estimator=model,\n",
    "        param_grid=param_grid,\n",
    "        cv=StratifiedShuffleSplit(n_splits=cv_splits, test_size=test_size, random_state=random_state),\n",
    "        scoring=scoring,\n",
    "        verbose=2,\n",
    "        n_jobs=n_jobs\n",
    "    )\n",
    "\n",
    "    # Fit the grid search to the training data\n",
    "    grid_search.fit(x_train, y_train)\n",
    "\n",
    "    # Get the best hyperparameters,best score value and the best model\n",
    "    best_params = grid_search.best_params_\n",
    "    best_score = grid_search.best_score_\n",
    "    best_model = grid_search.best_estimator_\n",
    "\n",
    "    return best_params, best_score, best_model"
   ]
  },
  {
   "cell_type": "code",
   "execution_count": 16,
   "id": "0ce2cc16-6239-4a33-a311-74060bd0a1a3",
   "metadata": {
    "tags": []
   },
   "outputs": [],
   "source": [
    "def save_model(model, filename):\n",
    "    try:\n",
    "        joblib.dump(model, filename)\n",
    "        print(f\"Model saved to {filename}\")\n",
    "    except Exception as e:\n",
    "        print(f\"Error saving the model: {str(e)}\")"
   ]
  },
  {
   "cell_type": "code",
   "execution_count": 17,
   "id": "d0c7be83-606d-4c9f-bf24-bcdb7b208526",
   "metadata": {
    "tags": []
   },
   "outputs": [],
   "source": [
    "\n",
    "def load_model(filename):\n",
    "    try:\n",
    "        model = joblib.load(filename)\n",
    "        print(f\"Model loaded from {filename}\")\n",
    "        return model\n",
    "    except Exception as e:\n",
    "        print(f\"Error loading the model: {str(e)}\")\n",
    "        return None"
   ]
  },
  {
   "cell_type": "markdown",
   "id": "484690ca-0d87-4d32-a1a4-50940a0e9d2c",
   "metadata": {},
   "source": [
    "### 1.For Label_1"
   ]
  },
  {
   "cell_type": "code",
   "execution_count": 35,
   "id": "cb9277e9-7fcd-4f54-a2d6-3ee340bb497f",
   "metadata": {
    "tags": []
   },
   "outputs": [],
   "source": [
    "param_grid = {'C': [0.1, 1, 10, 100], 'gamma': [1, 0.1, 0.01, 0.001]}  # Hyper parameter values"
   ]
  },
  {
   "cell_type": "code",
   "execution_count": 36,
   "id": "26fe8e47-4983-4cad-9874-e2978586ace6",
   "metadata": {
    "tags": []
   },
   "outputs": [
    {
     "name": "stdout",
     "output_type": "stream",
     "text": [
      "Fitting 5 folds for each of 16 candidates, totalling 80 fits\n"
     ]
    }
   ],
   "source": [
    "# Create an SVC classifier\n",
    "svm_classifier_for_label_1 = SVC()\n",
    " # Perform hyperparameter tuning with Stratified Shuffle Split cross validation\n",
    "best_params_for_label_1, best_score_for_label_1, best_model_for_label_1 = grid_search_with_cv(model=svm_classifier_for_label_1,\n",
    "                                        param_grid=param_grid,x_train=pca_components_training,y_train=training_target_label_1, n_jobs=6,test_size=0.4)"
   ]
  },
  {
   "cell_type": "code",
   "execution_count": 39,
   "id": "21238ca8-b1b0-4b08-a3d3-3a75532d02b0",
   "metadata": {
    "tags": []
   },
   "outputs": [
    {
     "data": {
      "text/plain": [
       "{'C': 100, 'gamma': 0.001}"
      ]
     },
     "execution_count": 39,
     "metadata": {},
     "output_type": "execute_result"
    }
   ],
   "source": [
    "best_params_for_label_1"
   ]
  },
  {
   "cell_type": "code",
   "execution_count": 38,
   "id": "0860c2fc-b4de-4845-80d6-b678a20adbfd",
   "metadata": {
    "tags": []
   },
   "outputs": [
    {
     "data": {
      "text/plain": [
       "0.9026998597475455"
      ]
     },
     "execution_count": 38,
     "metadata": {},
     "output_type": "execute_result"
    }
   ],
   "source": [
    "best_score_for_label_1"
   ]
  },
  {
   "cell_type": "code",
   "execution_count": 41,
   "id": "2cf39ef2-f7e3-4bac-9184-97c1b020642c",
   "metadata": {
    "tags": []
   },
   "outputs": [
    {
     "name": "stdout",
     "output_type": "stream",
     "text": [
      "Model saved to ./Models/model_label_1\n"
     ]
    }
   ],
   "source": [
    "# save the best model\n",
    "save_model(model=best_model_for_label_1, filename='./Models/model_label_1')"
   ]
  },
  {
   "cell_type": "code",
   "execution_count": 74,
   "id": "7b7beedd-3aa5-4ec8-9023-8b7126fc86c5",
   "metadata": {
    "tags": []
   },
   "outputs": [
    {
     "name": "stdout",
     "output_type": "stream",
     "text": [
      "Model loaded from ./Models/model_label_1\n",
      "SVC\n",
      "Validation Accuracy : 0.9307\n",
      "Validation Precision : 0.9291\n",
      "Validation Recall : 0.9351\n",
      "Validation f1 score : 0.9288\n"
     ]
    }
   ],
   "source": [
    "model_for_label_1 = load_model(filename='./Models/model_label_1')\n",
    "# Define a list of models\n",
    "models_for_label_1 = [('SVC', model_for_label_1)]\n",
    "evaluate_model(x_test=pca_components_validation, y_test=validation_target_label_1, models=models_for_label_1)"
   ]
  },
  {
   "cell_type": "markdown",
   "id": "c6097676-ad2c-4456-877b-26ab891bd725",
   "metadata": {},
   "source": [
    "### 2.For Label_2"
   ]
  },
  {
   "cell_type": "code",
   "execution_count": 48,
   "id": "f5fe71a0-2973-48cc-a3a9-8930dab12328",
   "metadata": {
    "tags": []
   },
   "outputs": [],
   "source": [
    "param_grid = {'C': [0.1, 1, 10, 100], 'gamma': [1, 0.1, 0.01, 0.001]}  # Hyper parameter values"
   ]
  },
  {
   "cell_type": "code",
   "execution_count": 70,
   "id": "6fa508d6-2332-4f07-9b00-9caa2960980d",
   "metadata": {
    "tags": []
   },
   "outputs": [
    {
     "name": "stdout",
     "output_type": "stream",
     "text": [
      "Fitting 5 folds for each of 16 candidates, totalling 80 fits\n"
     ]
    }
   ],
   "source": [
    "# Create an SVC classifier\n",
    "svm_classifier_for_label_2 = SVC(class_weight='balanced')\n",
    " # Perform hyperparameter tuning with Stratified Shuffle Split cross validation\n",
    "best_params_for_label_2, best_score_for_label_2, best_model_for_label_2 = grid_search_with_cv(model=svm_classifier_for_label_2, param_grid=param_grid,\n",
    "                                                x_train=pca_components_training_for_label_2,y_train=training_target_label_2, n_jobs=6,test_size=0.4)"
   ]
  },
  {
   "cell_type": "code",
   "execution_count": 71,
   "id": "1fe0db37-62a5-4b02-a1e5-ddf1c7649f2b",
   "metadata": {
    "tags": []
   },
   "outputs": [
    {
     "data": {
      "text/plain": [
       "{'C': 100, 'gamma': 0.001}"
      ]
     },
     "execution_count": 71,
     "metadata": {},
     "output_type": "execute_result"
    }
   ],
   "source": [
    "best_params_for_label_2"
   ]
  },
  {
   "cell_type": "code",
   "execution_count": 72,
   "id": "80a9ee8f-6b56-4e52-9f02-d47893ed25ee",
   "metadata": {
    "tags": []
   },
   "outputs": [
    {
     "data": {
      "text/plain": [
       "0.8475035663338089"
      ]
     },
     "execution_count": 72,
     "metadata": {},
     "output_type": "execute_result"
    }
   ],
   "source": [
    "best_score_for_label_2"
   ]
  },
  {
   "cell_type": "code",
   "execution_count": 67,
   "id": "1d262b0e-2a1c-49a4-9e37-56d5683e5efa",
   "metadata": {
    "tags": []
   },
   "outputs": [
    {
     "name": "stdout",
     "output_type": "stream",
     "text": [
      "Model saved to ./Models/model_label_2\n"
     ]
    }
   ],
   "source": [
    "### save the best model\n",
    "save_model(model=best_model_for_label_2, filename='./Models/model_label_2')"
   ]
  },
  {
   "cell_type": "code",
   "execution_count": 75,
   "id": "981dad34-6e1d-4265-a00a-f000aa6615a3",
   "metadata": {
    "tags": []
   },
   "outputs": [
    {
     "name": "stdout",
     "output_type": "stream",
     "text": [
      "Model loaded from ./Models/model_label_2\n",
      "SVC\n",
      "Validation Accuracy : 0.8832\n",
      "Validation Precision : 0.8854\n",
      "Validation Recall : 0.8832\n",
      "Validation f1 score : 0.8832\n"
     ]
    }
   ],
   "source": [
    "model_for_label_2 = load_model(filename='./Models/model_label_2')\n",
    "# Define a list of models\n",
    "models_for_label_2 = [('SVC', model_for_label_2)]\n",
    "evaluate_model(x_test=pca_components_validation_for_label_2, y_test=validation_target_label_2, models=models_for_label_2, average='weighted')"
   ]
  },
  {
   "cell_type": "markdown",
   "id": "bb85b944-38f9-477e-ae56-f5c2285f38d0",
   "metadata": {},
   "source": [
    "### 3.For Label_3"
   ]
  },
  {
   "cell_type": "code",
   "execution_count": 45,
   "id": "c0fad7e5-c7ba-463e-bc45-5b2c5201cf99",
   "metadata": {
    "tags": []
   },
   "outputs": [],
   "source": [
    "param_grid = {'C': [0.1, 1, 10, 100], 'gamma': [1, 0.1, 0.01, 0.001]}  # Hyper parameter values"
   ]
  },
  {
   "cell_type": "code",
   "execution_count": 46,
   "id": "6ce868d7-268a-4558-9b40-8f08150cb8c6",
   "metadata": {
    "tags": []
   },
   "outputs": [
    {
     "name": "stdout",
     "output_type": "stream",
     "text": [
      "Fitting 5 folds for each of 16 candidates, totalling 80 fits\n"
     ]
    }
   ],
   "source": [
    "# Create an SVC classifier\n",
    "svm_classifier_for_label_3 = SVC(class_weight='balanced')\n",
    " # Perform hyperparameter tuning with Stratified Shuffle Split cross validation\n",
    "best_params_for_label_3, best_score_for_label_3, best_model_for_label_3 = grid_search_with_cv(model=svm_classifier_for_label_3, param_grid=param_grid,\n",
    "                                        x_train=pca_components_training,y_train=training_target_label_3, n_jobs=6,test_size=0.4)"
   ]
  },
  {
   "cell_type": "code",
   "execution_count": 47,
   "id": "6a82e6a3-9c1d-4452-bc63-9819840be932",
   "metadata": {
    "tags": []
   },
   "outputs": [
    {
     "data": {
      "text/plain": [
       "{'C': 100, 'gamma': 0.001}"
      ]
     },
     "execution_count": 47,
     "metadata": {},
     "output_type": "execute_result"
    }
   ],
   "source": [
    "best_params_for_label_3"
   ]
  },
  {
   "cell_type": "code",
   "execution_count": 48,
   "id": "ce3564f9-b99f-4a23-815e-8626d283ea9b",
   "metadata": {
    "tags": []
   },
   "outputs": [
    {
     "data": {
      "text/plain": [
       "0.9924088359046284"
      ]
     },
     "execution_count": 48,
     "metadata": {},
     "output_type": "execute_result"
    }
   ],
   "source": [
    "best_score_for_label_3"
   ]
  },
  {
   "cell_type": "code",
   "execution_count": 49,
   "id": "06a02c5b-c5c9-4e98-a1e8-11a645572b1f",
   "metadata": {
    "tags": []
   },
   "outputs": [
    {
     "name": "stdout",
     "output_type": "stream",
     "text": [
      "Model saved to ./Models/model_label_3\n"
     ]
    }
   ],
   "source": [
    "### save the best model\n",
    "save_model(model=best_model_for_label_3, filename='./Models/model_label_3')"
   ]
  },
  {
   "cell_type": "code",
   "execution_count": 84,
   "id": "87f37cc0-ed1e-4a18-a21a-f9bc301f3782",
   "metadata": {
    "tags": []
   },
   "outputs": [
    {
     "name": "stdout",
     "output_type": "stream",
     "text": [
      "Model loaded from ./Models/model_label_3\n",
      "SVC\n",
      "Validation Accuracy : 0.9973\n",
      "Validation Precision : 0.9974\n",
      "Validation Recall : 0.9973\n",
      "Validation f1 score : 0.9973\n"
     ]
    }
   ],
   "source": [
    "model_for_label_3 = load_model(filename='./Models/model_label_3')\n",
    "# Define a list of models\n",
    "models_for_label_3 = [('SVC', model_for_label_3)]\n",
    "evaluate_model(x_test=pca_components_validation, y_test=validation_target_label_3, models=models_for_label_3,average='weighted')"
   ]
  },
  {
   "cell_type": "markdown",
   "id": "1d4777be-b573-4cb1-836c-90bc84cdf49a",
   "metadata": {},
   "source": [
    "### 4.For Label_4"
   ]
  },
  {
   "cell_type": "code",
   "execution_count": 78,
   "id": "22c7daac-7aff-41c9-8ddb-0f7160658d59",
   "metadata": {
    "tags": []
   },
   "outputs": [],
   "source": [
    "param_grid = {'C': [0.1, 1, 10, 100], 'gamma': [1, 0.1, 0.01, 0.001]}  # Hyper parameter values"
   ]
  },
  {
   "cell_type": "code",
   "execution_count": 79,
   "id": "dde16110-e50f-4443-950d-9ed786ff8c2d",
   "metadata": {
    "tags": []
   },
   "outputs": [
    {
     "name": "stdout",
     "output_type": "stream",
     "text": [
      "Fitting 5 folds for each of 16 candidates, totalling 80 fits\n"
     ]
    }
   ],
   "source": [
    "# Create an SVC classifier\n",
    "svm_classifier_for_label_4 = SVC(class_weight='balanced')\n",
    " # Perform hyperparameter tuning with Stratified Shuffle Split cross validation\n",
    "best_params_for_label_4, best_score_for_label_4, best_model_for_label_4 = grid_search_with_cv(model=svm_classifier_for_label_4, param_grid=param_grid,\n",
    "                                        x_train=pca_components_training,y_train=training_target_label_4, n_jobs=6,test_size=0.3)"
   ]
  },
  {
   "cell_type": "code",
   "execution_count": 80,
   "id": "f9a41727-b066-4298-8aa5-3e4e3ae981c5",
   "metadata": {
    "tags": []
   },
   "outputs": [
    {
     "data": {
      "text/plain": [
       "{'C': 100, 'gamma': 0.001}"
      ]
     },
     "execution_count": 80,
     "metadata": {},
     "output_type": "execute_result"
    }
   ],
   "source": [
    "best_params_for_label_4"
   ]
  },
  {
   "cell_type": "code",
   "execution_count": 81,
   "id": "e37167fd-1cdc-4b88-b25f-e17e577630a3",
   "metadata": {
    "tags": []
   },
   "outputs": [
    {
     "data": {
      "text/plain": [
       "0.9280037400654513"
      ]
     },
     "execution_count": 81,
     "metadata": {},
     "output_type": "execute_result"
    }
   ],
   "source": [
    "best_score_for_label_4"
   ]
  },
  {
   "cell_type": "code",
   "execution_count": 82,
   "id": "8cfcc00a-601a-462d-b42e-f08d17e1c7fe",
   "metadata": {
    "tags": []
   },
   "outputs": [
    {
     "name": "stdout",
     "output_type": "stream",
     "text": [
      "Model saved to ./Models/model_label_4\n"
     ]
    }
   ],
   "source": [
    "### save the best model\n",
    "save_model(model=best_model_for_label_4, filename='./Models/model_label_4')"
   ]
  },
  {
   "cell_type": "code",
   "execution_count": 85,
   "id": "ecf7bf7a-1a0d-4c4f-985c-0051459420f2",
   "metadata": {
    "tags": []
   },
   "outputs": [
    {
     "name": "stdout",
     "output_type": "stream",
     "text": [
      "Model loaded from ./Models/model_label_4\n",
      "SVC\n",
      "Validation Accuracy : 0.9320\n",
      "Validation Precision : 0.9342\n",
      "Validation Recall : 0.9320\n",
      "Validation f1 score : 0.9316\n"
     ]
    }
   ],
   "source": [
    "model_for_label_4 = load_model(filename='./Models/model_label_4')\n",
    "# Define a list of models\n",
    "models_for_label_4 = [('SVC', model_for_label_4)]\n",
    "evaluate_model(x_test=pca_components_validation, y_test=validation_target_label_4, models=models_for_label_4,average='weighted')"
   ]
  },
  {
   "cell_type": "markdown",
   "id": "25f8517d-6dbc-4543-a264-df1cb840ed5e",
   "metadata": {},
   "source": [
    "## Save Test Dataset Results"
   ]
  },
  {
   "cell_type": "code",
   "execution_count": 18,
   "id": "05cace7c-424f-439a-977a-06066d25b93d",
   "metadata": {
    "tags": []
   },
   "outputs": [
    {
     "name": "stdout",
     "output_type": "stream",
     "text": [
      "Model loaded from ./Models/model_label_1\n",
      "Model loaded from ./Models/model_label_2\n",
      "Model loaded from ./Models/model_label_3\n",
      "Model loaded from ./Models/model_label_4\n"
     ]
    }
   ],
   "source": [
    "model_label_1 = load_model(\"./Models/model_label_1\")\n",
    "model_label_2 = load_model(\"./Models/model_label_2\")\n",
    "model_label_3 = load_model(\"./Models/model_label_3\")\n",
    "model_label_4 = load_model(\"./Models/model_label_4\")\n",
    "\n",
    "# get prediction results\n",
    "label_1 = model_label_1.predict(pca_components_testing)\n",
    "label_2 = model_label_2.predict(pca_components_testing_label_2)\n",
    "label_3 = model_label_3.predict(pca_components_testing)\n",
    "label_4 = model_label_4.predict(pca_components_testing)\n",
    "\n",
    "result_df = pd.DataFrame({'ID': test_IDs, 'label_1': label_1, 'label_2': label_2.astype(int), 'label_3': label_3, 'label_4': label_4})\n",
    "result_df.to_csv(\"Test.csv\",index=False)"
   ]
  },
  {
   "cell_type": "code",
   "execution_count": null,
   "id": "8f450c8a-4ad8-4be3-b4ec-63f980e5c9d0",
   "metadata": {},
   "outputs": [],
   "source": []
  }
 ],
 "metadata": {
  "kernelspec": {
   "display_name": "Python 3 (ipykernel)",
   "language": "python",
   "name": "python3"
  },
  "language_info": {
   "codemirror_mode": {
    "name": "ipython",
    "version": 3
   },
   "file_extension": ".py",
   "mimetype": "text/x-python",
   "name": "python",
   "nbconvert_exporter": "python",
   "pygments_lexer": "ipython3",
   "version": "3.11.4"
  },
  "toc-autonumbering": false,
  "toc-showcode": false,
  "toc-showmarkdowntxt": true,
  "toc-showtags": true
 },
 "nbformat": 4,
 "nbformat_minor": 5
}
