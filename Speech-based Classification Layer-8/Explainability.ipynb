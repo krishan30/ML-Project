{
 "cells": [
  {
   "cell_type": "markdown",
   "source": [
    "## Import the necessary Python libraries"
   ],
   "metadata": {
    "collapsed": false
   }
  },
  {
   "cell_type": "code",
   "execution_count": 1,
   "metadata": {
    "collapsed": true,
    "ExecuteTime": {
     "end_time": "2023-10-12T19:08:35.518965100Z",
     "start_time": "2023-10-12T19:08:34.727989100Z"
    }
   },
   "outputs": [],
   "source": [
    "import shap\n",
    "import pandas as pd\n",
    "from sklearn.svm import SVC"
   ]
  },
  {
   "cell_type": "markdown",
   "source": [
    "### Loading the Train & Valid Dataset"
   ],
   "metadata": {
    "collapsed": false
   }
  },
  {
   "cell_type": "code",
   "execution_count": 2,
   "outputs": [],
   "source": [
    "training_data = pd.read_csv('./Datasets/train.csv')\n",
    "validation_data = pd.read_csv('./Datasets/valid.csv')"
   ],
   "metadata": {
    "collapsed": false,
    "ExecuteTime": {
     "end_time": "2023-10-12T19:08:40.615368700Z",
     "start_time": "2023-10-12T19:08:37.332493100Z"
    }
   }
  },
  {
   "cell_type": "markdown",
   "source": [
    "## Removing Missing Values"
   ],
   "metadata": {
    "collapsed": false
   }
  },
  {
   "cell_type": "code",
   "execution_count": 3,
   "outputs": [],
   "source": [
    "training_data_label_2 = training_data.dropna()\n",
    "validation_data_label_2 = validation_data.dropna()"
   ],
   "metadata": {
    "collapsed": false,
    "ExecuteTime": {
     "end_time": "2023-10-12T19:08:43.926790200Z",
     "start_time": "2023-10-12T19:08:43.850187200Z"
    }
   }
  },
  {
   "cell_type": "markdown",
   "source": [
    "## Separate Features and Target Labels from Datasets"
   ],
   "metadata": {
    "collapsed": false
   }
  },
  {
   "cell_type": "markdown",
   "source": [
    "### 1. In Training Dataset"
   ],
   "metadata": {
    "collapsed": false
   }
  },
  {
   "cell_type": "code",
   "execution_count": 4,
   "outputs": [],
   "source": [
    "# Separate features and target labels\n",
    "training_features = training_data.drop(['label_1', 'label_2','label_3','label_4'], axis=1)\n",
    "training_features_label_2 = training_data_label_2.drop(['label_1', 'label_2','label_3','label_4'], axis=1)\n",
    "training_target_label_1 = training_data['label_1']\n",
    "training_target_label_2 = training_data_label_2['label_2']\n",
    "training_target_label_3 = training_data['label_3']\n",
    "training_target_label_4 = training_data['label_4']"
   ],
   "metadata": {
    "collapsed": false,
    "ExecuteTime": {
     "end_time": "2023-10-12T19:08:46.299569700Z",
     "start_time": "2023-10-12T19:08:46.218494300Z"
    }
   }
  },
  {
   "cell_type": "markdown",
   "source": [
    "### 2.In validation Dataset"
   ],
   "metadata": {
    "collapsed": false
   }
  },
  {
   "cell_type": "code",
   "execution_count": 5,
   "outputs": [],
   "source": [
    "validation_features = validation_data.drop(['label_1', 'label_2','label_3','label_4'], axis=1)\n",
    "validation_features_label_2 = validation_data_label_2.drop(['label_1', 'label_2','label_3','label_4'], axis=1)\n",
    "validation_target_label_1 = validation_data['label_1']\n",
    "validation_target_label_2 = validation_data_label_2['label_2']\n",
    "validation_target_label_3 = validation_data['label_3']\n",
    "validation_target_label_4 = validation_data['label_4']"
   ],
   "metadata": {
    "collapsed": false,
    "ExecuteTime": {
     "end_time": "2023-10-12T19:08:47.447057400Z",
     "start_time": "2023-10-12T19:08:47.432458800Z"
    }
   }
  },
  {
   "cell_type": "markdown",
   "source": [
    "# Explain-ability of the Model"
   ],
   "metadata": {
    "collapsed": false
   }
  },
  {
   "cell_type": "markdown",
   "source": [
    "## SHAP Values For Interpretability"
   ],
   "metadata": {
    "collapsed": false
   }
  },
  {
   "cell_type": "markdown",
   "source": [
    "### For Label 1"
   ],
   "metadata": {
    "collapsed": false
   }
  },
  {
   "cell_type": "code",
   "execution_count": null,
   "outputs": [],
   "source": [
    "svm_classifier_for_label_1 = SVC()"
   ],
   "metadata": {
    "collapsed": false
   }
  },
  {
   "cell_type": "markdown",
   "source": [
    "#### Training the model"
   ],
   "metadata": {
    "collapsed": false
   }
  },
  {
   "cell_type": "code",
   "execution_count": null,
   "outputs": [],
   "source": [
    "svm_classifier_for_label_1.fit(training_features,training_target_label_1)"
   ],
   "metadata": {
    "collapsed": false
   }
  },
  {
   "cell_type": "markdown",
   "source": [
    "#### Calculating shap values"
   ],
   "metadata": {
    "collapsed": false
   }
  },
  {
   "cell_type": "code",
   "execution_count": null,
   "outputs": [],
   "source": [
    "explainer_label_1 = shap.KernelExplainer(svm_classifier_for_label_1.predict,shap.sample(validation_features,10,random_state=42))"
   ],
   "metadata": {
    "collapsed": false
   }
  },
  {
   "cell_type": "code",
   "execution_count": null,
   "outputs": [],
   "source": [
    "shap_values=explainer_label_1.shap_values(shap.sample(validation_features,10,random_state=30))"
   ],
   "metadata": {
    "collapsed": false
   }
  },
  {
   "cell_type": "markdown",
   "source": [
    "#### Visualizing the shap values"
   ],
   "metadata": {
    "collapsed": false
   }
  },
  {
   "cell_type": "code",
   "execution_count": null,
   "outputs": [],
   "source": [
    "shap.summary_plot(shap_values, shap.sample(validation_features,10,random_state=30))"
   ],
   "metadata": {
    "collapsed": false
   }
  },
  {
   "cell_type": "code",
   "execution_count": null,
   "outputs": [],
   "source": [
    "shap.summary_plot(shap_values, shap.sample(validation_features,10,random_state=30),plot_type='violin')"
   ],
   "metadata": {
    "collapsed": false
   }
  },
  {
   "cell_type": "code",
   "execution_count": null,
   "outputs": [],
   "source": [
    "shap.summary_plot(shap_values, shap.sample(validation_features,10,random_state=30), plot_type='bar')"
   ],
   "metadata": {
    "collapsed": false
   }
  },
  {
   "cell_type": "markdown",
   "source": [
    "### For Label 2"
   ],
   "metadata": {
    "collapsed": false
   }
  },
  {
   "cell_type": "markdown",
   "source": [
    "#### Training the model"
   ],
   "metadata": {
    "collapsed": false
   }
  },
  {
   "cell_type": "code",
   "execution_count": null,
   "outputs": [],
   "source": [
    "svm_classifier_for_label_2 = SVC(class_weight='balanced')"
   ],
   "metadata": {
    "collapsed": false
   }
  },
  {
   "cell_type": "code",
   "execution_count": null,
   "outputs": [],
   "source": [
    "svm_classifier_for_label_2.fit(training_features_label_2,training_target_label_2)"
   ],
   "metadata": {
    "collapsed": false
   }
  },
  {
   "cell_type": "markdown",
   "source": [
    "#### Calculating shap values"
   ],
   "metadata": {
    "collapsed": false
   }
  },
  {
   "cell_type": "code",
   "execution_count": null,
   "outputs": [],
   "source": [
    "explainer_label_2 = shap.KernelExplainer(svm_classifier_for_label_2.predict,shap.sample(validation_features_label_2,10,random_state=42))"
   ],
   "metadata": {
    "collapsed": false
   }
  },
  {
   "cell_type": "code",
   "execution_count": null,
   "outputs": [],
   "source": [
    "sharp_values_label_2=explainer_label_2.shap_values(shap.sample(validation_features_label_2,10,random_state=30))"
   ],
   "metadata": {
    "collapsed": false
   }
  },
  {
   "cell_type": "markdown",
   "source": [
    "#### Visualizing the shap values"
   ],
   "metadata": {
    "collapsed": false
   }
  },
  {
   "cell_type": "code",
   "execution_count": null,
   "outputs": [],
   "source": [
    "shap.summary_plot(sharp_values_label_2, shap.sample(validation_features_label_2,10,random_state=30))"
   ],
   "metadata": {
    "collapsed": false
   }
  },
  {
   "cell_type": "code",
   "execution_count": null,
   "outputs": [],
   "source": [
    "shap.summary_plot(sharp_values_label_2, shap.sample(validation_features_label_2,10,random_state=30),plot_type='violin')"
   ],
   "metadata": {
    "collapsed": false
   }
  },
  {
   "cell_type": "code",
   "execution_count": null,
   "outputs": [],
   "source": [
    "shap.summary_plot(sharp_values_label_2, shap.sample(validation_features_label_2,10,random_state=30), plot_type='bar')"
   ],
   "metadata": {
    "collapsed": false
   }
  },
  {
   "cell_type": "markdown",
   "source": [
    "### For Label 3"
   ],
   "metadata": {
    "collapsed": false
   }
  },
  {
   "cell_type": "markdown",
   "source": [
    "#### Training the model"
   ],
   "metadata": {
    "collapsed": false
   }
  },
  {
   "cell_type": "code",
   "execution_count": null,
   "outputs": [],
   "source": [
    "svm_classifier_for_label_3 = SVC(class_weight='balanced')"
   ],
   "metadata": {
    "collapsed": false
   }
  },
  {
   "cell_type": "code",
   "execution_count": null,
   "outputs": [],
   "source": [
    "svm_classifier_for_label_3.fit(training_features,training_target_label_3)"
   ],
   "metadata": {
    "collapsed": false
   }
  },
  {
   "cell_type": "markdown",
   "source": [
    "#### Calculating shap values"
   ],
   "metadata": {
    "collapsed": false
   }
  },
  {
   "cell_type": "code",
   "execution_count": null,
   "outputs": [],
   "source": [
    "explainer_label_3 = shap.KernelExplainer(svm_classifier_for_label_3.predict,shap.sample(validation_features,10,random_state=42))"
   ],
   "metadata": {
    "collapsed": false
   }
  },
  {
   "cell_type": "code",
   "execution_count": null,
   "outputs": [],
   "source": [
    "sharp_values_label_3=explainer_label_3.shap_values(shap.sample(validation_features,10,random_state=30))"
   ],
   "metadata": {
    "collapsed": false
   }
  },
  {
   "cell_type": "markdown",
   "source": [
    "#### Visualizing the shap values"
   ],
   "metadata": {
    "collapsed": false
   }
  },
  {
   "cell_type": "code",
   "execution_count": null,
   "outputs": [],
   "source": [
    "shap.summary_plot(sharp_values_label_3, shap.sample(validation_features,10,random_state=30))"
   ],
   "metadata": {
    "collapsed": false
   }
  },
  {
   "cell_type": "code",
   "execution_count": null,
   "outputs": [],
   "source": [
    "shap.summary_plot(sharp_values_label_3, shap.sample(validation_features,10,random_state=30),plot_type='violin')"
   ],
   "metadata": {
    "collapsed": false
   }
  },
  {
   "cell_type": "code",
   "execution_count": null,
   "outputs": [],
   "source": [
    "shap.summary_plot(sharp_values_label_3, shap.sample(validation_features,10,random_state=30), plot_type='bar')"
   ],
   "metadata": {
    "collapsed": false
   }
  },
  {
   "cell_type": "markdown",
   "source": [
    "### For Label 4"
   ],
   "metadata": {
    "collapsed": false
   }
  },
  {
   "cell_type": "markdown",
   "source": [
    "#### Training the model"
   ],
   "metadata": {
    "collapsed": false
   }
  },
  {
   "cell_type": "code",
   "execution_count": null,
   "outputs": [],
   "source": [
    "svm_classifier_for_label_4 = SVC(class_weight='balanced')"
   ],
   "metadata": {
    "collapsed": false
   }
  },
  {
   "cell_type": "code",
   "execution_count": null,
   "outputs": [],
   "source": [
    "svm_classifier_for_label_4.fit(training_features,training_target_label_4)"
   ],
   "metadata": {
    "collapsed": false
   }
  },
  {
   "cell_type": "markdown",
   "source": [
    "#### Calculating shap values"
   ],
   "metadata": {
    "collapsed": false
   }
  },
  {
   "cell_type": "code",
   "execution_count": null,
   "outputs": [],
   "source": [
    "explainer_label_4 = shap.KernelExplainer(svm_classifier_for_label_4.predict,shap.sample(validation_features,10,random_state=42))"
   ],
   "metadata": {
    "collapsed": false
   }
  },
  {
   "cell_type": "code",
   "execution_count": null,
   "outputs": [],
   "source": [
    "sharp_values_label_4=explainer_label_4.shap_values(shap.sample(validation_features,10,random_state=30))"
   ],
   "metadata": {
    "collapsed": false
   }
  },
  {
   "cell_type": "markdown",
   "source": [
    "#### Visualizing the shap values"
   ],
   "metadata": {
    "collapsed": false
   }
  },
  {
   "cell_type": "code",
   "execution_count": null,
   "outputs": [],
   "source": [
    "shap.summary_plot(sharp_values_label_4, shap.sample(validation_features,10,random_state=30))"
   ],
   "metadata": {
    "collapsed": false
   }
  },
  {
   "cell_type": "code",
   "execution_count": null,
   "outputs": [],
   "source": [
    "shap.summary_plot(sharp_values_label_4, shap.sample(validation_features,10,random_state=30),plot_type='violin')"
   ],
   "metadata": {
    "collapsed": false
   }
  },
  {
   "cell_type": "code",
   "execution_count": null,
   "outputs": [],
   "source": [
    "shap.summary_plot(sharp_values_label_4, shap.sample(validation_features,10,random_state=30), plot_type='bar')"
   ],
   "metadata": {
    "collapsed": false
   }
  }
 ],
 "metadata": {
  "kernelspec": {
   "display_name": "Python 3",
   "language": "python",
   "name": "python3"
  },
  "language_info": {
   "codemirror_mode": {
    "name": "ipython",
    "version": 2
   },
   "file_extension": ".py",
   "mimetype": "text/x-python",
   "name": "python",
   "nbconvert_exporter": "python",
   "pygments_lexer": "ipython2",
   "version": "2.7.6"
  }
 },
 "nbformat": 4,
 "nbformat_minor": 0
}
